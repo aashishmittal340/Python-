{
  "nbformat": 4,
  "nbformat_minor": 0,
  "metadata": {
    "colab": {
      "name": "Untitled0.ipynb",
      "provenance": [],
      "authorship_tag": "ABX9TyPa8/rPm/fHuu7a/ZHufyHC"
    },
    "kernelspec": {
      "name": "python3",
      "display_name": "Python 3"
    }
  },
  "cells": [
    {
      "cell_type": "code",
      "metadata": {
        "id": "dx55cLeWkyI0",
        "colab_type": "code",
        "colab": {
          "base_uri": "https://localhost:8080/",
          "height": 34
        },
        "outputId": "be98fa87-d1da-4cd1-d505-3e8f19dda4bb"
      },
      "source": [
        "a = [12,3,4,54]\n",
        "print(a)"
      ],
      "execution_count": 1,
      "outputs": [
        {
          "output_type": "stream",
          "text": [
            "[12, 3, 4, 54]\n"
          ],
          "name": "stdout"
        }
      ]
    },
    {
      "cell_type": "code",
      "metadata": {
        "id": "MqBL0BXmk5AC",
        "colab_type": "code",
        "colab": {}
      },
      "source": [
        "54"
      ],
      "execution_count": 1,
      "outputs": []
    }
  ]
}