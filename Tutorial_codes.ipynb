{
  "nbformat": 4,
  "nbformat_minor": 0,
  "metadata": {
    "colab": {
      "name": "Untitled0.ipynb",
      "provenance": [],
      "authorship_tag": "ABX9TyPRpn9jdhifNUZqViBniv+T",
      "include_colab_link": true
    },
    "kernelspec": {
      "name": "python3",
      "display_name": "Python 3"
    }
  },
  "cells": [
    {
      "cell_type": "markdown",
      "metadata": {
        "id": "view-in-github",
        "colab_type": "text"
      },
      "source": [
        "<a href=\"https://colab.research.google.com/github/aashishmittal340/Python-/blob/master/Tutorial_codes.ipynb\" target=\"_parent\"><img src=\"https://colab.research.google.com/assets/colab-badge.svg\" alt=\"Open In Colab\"/></a>"
      ]
    },
    {
      "cell_type": "markdown",
      "metadata": {
        "id": "oLOsr6G6MIH9",
        "colab_type": "text"
      },
      "source": [
        "####How to write the statement\n"
      ]
    },
    {
      "cell_type": "code",
      "metadata": {
        "id": "fo9KFwQP0o3x",
        "colab_type": "code",
        "colab": {
          "base_uri": "https://localhost:8080/",
          "height": 34
        },
        "outputId": "416d8ea4-08d8-403d-f1ca-d89d38d55671"
      },
      "source": [
        "print(\"hello world\")\n"
      ],
      "execution_count": null,
      "outputs": [
        {
          "output_type": "stream",
          "text": [
            "hello world\n"
          ],
          "name": "stdout"
        }
      ]
    },
    {
      "cell_type": "markdown",
      "metadata": {
        "id": "48ZMFU5gMZCr",
        "colab_type": "text"
      },
      "source": [
        "####One and multiline comments"
      ]
    },
    {
      "cell_type": "code",
      "metadata": {
        "id": "e4eAO5BUC5bZ",
        "colab_type": "code",
        "colab": {}
      },
      "source": [
        "#this hastag sign use to tell PYTHON to ignore the pirticular line\n"
      ],
      "execution_count": null,
      "outputs": []
    },
    {
      "cell_type": "code",
      "metadata": {
        "id": "6TsmouJJDawI",
        "colab_type": "code",
        "colab": {
          "base_uri": "https://localhost:8080/",
          "height": 34
        },
        "outputId": "c7e29a9c-6d59-4407-fe82-fff175c24233"
      },
      "source": [
        "\"\"\"\n",
        "we \n",
        "use \n",
        "triple \n",
        "quote \n",
        "to \n",
        "ignore\n",
        "multiline\n",
        "comments\n",
        "\"\"\"\n",
        "print('have you cleare, what is single line comment and multiline comment')"
      ],
      "execution_count": null,
      "outputs": [
        {
          "output_type": "stream",
          "text": [
            "have you cleare, what is single line comment and multiline comment\n"
          ],
          "name": "stdout"
        }
      ]
    },
    {
      "cell_type": "markdown",
      "metadata": {
        "id": "WbP0ipYsNSyq",
        "colab_type": "text"
      },
      "source": [
        "####escape_sequence_character "
      ]
    },
    {
      "cell_type": "code",
      "metadata": {
        "id": "4vXn0PDcE3Zz",
        "colab_type": "code",
        "colab": {
          "base_uri": "https://localhost:8080/",
          "height": 51
        },
        "outputId": "a60a9511-f322-47ec-afe0-22e334249d57"
      },
      "source": [
        "# if I run this code, so these both statements comes in a new line; as I look as its output\n",
        "print(\"hello\")\n",
        "print(\"world\")\n"
      ],
      "execution_count": null,
      "outputs": [
        {
          "output_type": "stream",
          "text": [
            "hello\n",
            "world\n"
          ],
          "name": "stdout"
        }
      ]
    },
    {
      "cell_type": "code",
      "metadata": {
        "id": "XtlgZkfTF1w9",
        "colab_type": "code",
        "colab": {
          "base_uri": "https://localhost:8080/",
          "height": 34
        },
        "outputId": "6e9a715c-ae86-444a-b0e7-6911253bb54f"
      },
      "source": [
        "# But if I want printing out both statement in single line whether both statement's code written in saperate line so we use for it (end=\"\"), that is new line caracter\n",
        "print(\"hello\",end=\",\")\n",
        "print(\" world\")"
      ],
      "execution_count": null,
      "outputs": [
        {
          "output_type": "stream",
          "text": [
            "hello, world\n"
          ],
          "name": "stdout"
        }
      ]
    },
    {
      "cell_type": "code",
      "metadata": {
        "id": "CnD3hhNyJWCw",
        "colab_type": "code",
        "colab": {
          "base_uri": "https://localhost:8080/",
          "height": 51
        },
        "outputId": "140e4505-88e0-4ff2-9263-2ad07413351a"
      },
      "source": [
        "#If I want to divide the string caracteres in two lines so we use for it \"\\n\"\n",
        "print(\"hello \\nworld\")"
      ],
      "execution_count": null,
      "outputs": [
        {
          "output_type": "stream",
          "text": [
            "hello \n",
            "world\n"
          ],
          "name": "stdout"
        }
      ]
    },
    {
      "cell_type": "code",
      "metadata": {
        "id": "R7V7DlEUKNHG",
        "colab_type": "code",
        "colab": {
          "base_uri": "https://localhost:8080/",
          "height": 51
        },
        "outputId": "efe3fee5-a41f-4928-f669-93659a57f22b"
      },
      "source": [
        "#but in case,-this is an example\n",
        "print(\"which bike do you like old\\new\")\n",
        "#it shows an abnormel out put that is,"
      ],
      "execution_count": null,
      "outputs": [
        {
          "output_type": "stream",
          "text": [
            "which bike do you like old\n",
            "ew\n"
          ],
          "name": "stdout"
        }
      ]
    },
    {
      "cell_type": "code",
      "metadata": {
        "id": "nRDq7QD5KqUt",
        "colab_type": "code",
        "colab": {}
      },
      "source": [
        "#this is because python does not understand in grammer manner, it only and only do work with its own rules\n",
        "#above cell showes error because it does not understand what's the meaning of string but it understand it own escape sequence caracters that was \"\\n\""
      ],
      "execution_count": null,
      "outputs": []
    },
    {
      "cell_type": "code",
      "metadata": {
        "id": "1Mx58531OMIs",
        "colab_type": "code",
        "colab": {
          "base_uri": "https://localhost:8080/",
          "height": 34
        },
        "outputId": "7ed18f36-6cd5-4d3f-f777-b0d6ac827c48"
      },
      "source": [
        "#Now, if I want get that output that I did really want. So now I use a special caracter that is \\\\n\n",
        "print(\"which car do you like old\\\\new\")"
      ],
      "execution_count": null,
      "outputs": [
        {
          "output_type": "stream",
          "text": [
            "which car do you like old\\new\n"
          ],
          "name": "stdout"
        }
      ]
    },
    {
      "cell_type": "code",
      "metadata": {
        "id": "xcNPlZ9UIoPx",
        "colab_type": "code",
        "colab": {}
      },
      "source": [
        "# if I want to use single quote between the string again\\\n",
        "print(\"hello\"world\")\n",
        "#It shows an error"
      ],
      "execution_count": null,
      "outputs": []
    },
    {
      "cell_type": "code",
      "metadata": {
        "id": "OPVoChS0PliV",
        "colab_type": "code",
        "colab": {
          "base_uri": "https://localhost:8080/",
          "height": 34
        },
        "outputId": "5aa94ebf-07ee-4d3f-9ac1-c3db45eb1ad9"
      },
      "source": [
        "#again we an escape sequence caracter this \"\\n'\"\n",
        "print(\"hello\\\"world\")"
      ],
      "execution_count": null,
      "outputs": [
        {
          "output_type": "stream",
          "text": [
            "hello\"world\n"
          ],
          "name": "stdout"
        }
      ]
    },
    {
      "cell_type": "code",
      "metadata": {
        "id": "hUkgs97CQ3dx",
        "colab_type": "code",
        "colab": {
          "base_uri": "https://localhost:8080/",
          "height": 34
        },
        "outputId": "20a32be8-ddd1-41b6-960d-3f9ef52b2f38"
      },
      "source": [
        "#We use \"\\t\" for giving tab in the string \n",
        "print(\"hello\\thello\\tworld\")"
      ],
      "execution_count": null,
      "outputs": [
        {
          "output_type": "stream",
          "text": [
            "hello\thello\tworld\n"
          ],
          "name": "stdout"
        }
      ]
    },
    {
      "cell_type": "markdown",
      "metadata": {
        "id": "lWra48hwVA0d",
        "colab_type": "text"
      },
      "source": [
        "######Some_more_sequence_characters_by_internet"
      ]
    },
    {
      "cell_type": "code",
      "metadata": {
        "id": "G0OPr0wETpkp",
        "colab_type": "code",
        "colab": {
          "base_uri": "https://localhost:8080/",
          "height": 34
        },
        "outputId": "b56b7af4-11d1-47a6-b9f0-93c10234db1b"
      },
      "source": [
        "print(\"hello \\\\world\")"
      ],
      "execution_count": null,
      "outputs": [
        {
          "output_type": "stream",
          "text": [
            "hello \\world\n"
          ],
          "name": "stdout"
        }
      ]
    },
    {
      "cell_type": "code",
      "metadata": {
        "id": "reSWtp3bWm5v",
        "colab_type": "code",
        "colab": {
          "base_uri": "https://localhost:8080/",
          "height": 34
        },
        "outputId": "27878bf2-7b2b-41cf-d3f1-b480f9c68cae"
      },
      "source": [
        "print('hello \\'world')\n",
        "\n"
      ],
      "execution_count": null,
      "outputs": [
        {
          "output_type": "stream",
          "text": [
            "hello 'world\n"
          ],
          "name": "stdout"
        }
      ]
    },
    {
      "cell_type": "code",
      "metadata": {
        "id": "9tCnLs0EW2nA",
        "colab_type": "code",
        "colab": {
          "base_uri": "https://localhost:8080/",
          "height": 34
        },
        "outputId": "4787e559-3752-4c3d-a6cb-14233a402bdc"
      },
      "source": [
        "print(\"hello \\\"world\")"
      ],
      "execution_count": null,
      "outputs": [
        {
          "output_type": "stream",
          "text": [
            "hello \"world\n"
          ],
          "name": "stdout"
        }
      ]
    },
    {
      "cell_type": "code",
      "metadata": {
        "id": "XHy_n9mcXEsu",
        "colab_type": "code",
        "colab": {
          "base_uri": "https://localhost:8080/",
          "height": 34
        },
        "outputId": "a5f9e6cf-6299-405c-90a9-672242a54bf5"
      },
      "source": [
        "print(\"hello \\aworld\")"
      ],
      "execution_count": null,
      "outputs": [
        {
          "output_type": "stream",
          "text": [
            "hello \u0007world\n"
          ],
          "name": "stdout"
        }
      ]
    },
    {
      "cell_type": "code",
      "metadata": {
        "id": "7pvNREKlXOfh",
        "colab_type": "code",
        "colab": {
          "base_uri": "https://localhost:8080/",
          "height": 51
        },
        "outputId": "db42a630-fcce-420a-c1f8-887086179f30"
      },
      "source": [
        "#This character remove the just before character of backslash(\\)\n",
        "print(\"hello \\bworld\")\n",
        "print(\"bye-\\bye\")"
      ],
      "execution_count": null,
      "outputs": [
        {
          "output_type": "stream",
          "text": [
            "hello \bworld\n",
            "bye-\bye\n"
          ],
          "name": "stdout"
        }
      ]
    },
    {
      "cell_type": "code",
      "metadata": {
        "id": "HEVYq9q6YgJe",
        "colab_type": "code",
        "colab": {
          "base_uri": "https://localhost:8080/",
          "height": 51
        },
        "outputId": "63526211-b356-407b-dc09-aa41703a7308"
      },
      "source": [
        "print(\"hello \\nworld\")"
      ],
      "execution_count": null,
      "outputs": [
        {
          "output_type": "stream",
          "text": [
            "hello \n",
            "world\n"
          ],
          "name": "stdout"
        }
      ]
    },
    {
      "cell_type": "markdown",
      "metadata": {
        "id": "-yZLCUEAb7sU",
        "colab_type": "text"
      },
      "source": [
        "####Variables_Datatypes_and_Typecasting"
      ]
    },
    {
      "cell_type": "markdown",
      "metadata": {
        "id": "9tZYNwSwdQc2",
        "colab_type": "text"
      },
      "source": [
        "######Variables"
      ]
    },
    {
      "cell_type": "code",
      "metadata": {
        "id": "yZQA6vxycOgI",
        "colab_type": "code",
        "colab": {}
      },
      "source": [
        "#Variables are the characters in which we stored the numbers or string for eg. \n",
        "a=45\n",
        "b=45\n",
        "c=a+b\n",
        "#'a' and 'b' are variables\n"
      ],
      "execution_count": null,
      "outputs": []
    },
    {
      "cell_type": "markdown",
      "metadata": {
        "id": "sjZQgw6YdWkj",
        "colab_type": "text"
      },
      "source": [
        "######Datatypes"
      ]
    },
    {
      "cell_type": "code",
      "metadata": {
        "id": "G0RnqiLudbXI",
        "colab_type": "code",
        "colab": {
          "base_uri": "https://localhost:8080/",
          "height": 68
        },
        "outputId": "988fe8de-98b7-4d1a-875f-2796dc1fb90c"
      },
      "source": [
        "a=\"hello world\"\n",
        "b=456\n",
        "c=69.5\n",
        "#If we want to know which types variables contain, so we use for it the resercve word that is 'type'p'\n",
        "print(type(a))\n",
        "print(type(b))\n",
        "print(type(c))"
      ],
      "execution_count": null,
      "outputs": [
        {
          "output_type": "stream",
          "text": [
            "<class 'str'>\n",
            "<class 'int'>\n",
            "<class 'float'>\n"
          ],
          "name": "stdout"
        }
      ]
    },
    {
      "cell_type": "code",
      "metadata": {
        "id": "mbsgfBh204WN",
        "colab_type": "code",
        "colab": {
          "base_uri": "https://localhost:8080/",
          "height": 51
        },
        "outputId": "4aef6da8-fc3c-4c33-df3c-93de031caa8e"
      },
      "source": [
        "\"\"\"\n",
        "string adds only with it like terms\n",
        "integers can adds its like terms as well a float\n",
        "floar can adds its like term as well as integers\n",
        "\"\"\"\n",
        "a = \"hello world\" #String\n",
        "b = 456 #Integer\n",
        "c = 56.4 #float\n",
        "d = \"there\"\n",
        "#print(a+b) and (a+c) will show error\n",
        "print(b+c);(c+b) #will not show error\n",
        "print(a+d)# will also not show error. The reason is that, string can add with more string"
      ],
      "execution_count": null,
      "outputs": [
        {
          "output_type": "stream",
          "text": [
            "512.4\n"
          ],
          "name": "stdout"
        },
        {
          "output_type": "execute_result",
          "data": {
            "text/plain": [
              "512.4"
            ]
          },
          "metadata": {
            "tags": []
          },
          "execution_count": 6
        }
      ]
    },
    {
      "cell_type": "markdown",
      "metadata": {
        "id": "EVI8VASg5YyI",
        "colab_type": "text"
      },
      "source": [
        "<>  String can change into integers and float \n",
        "\n",
        "<> Integer can change into string and float\n",
        "\n",
        "<> Float can change into string and integer"
      ]
    },
    {
      "cell_type": "markdown",
      "metadata": {
        "id": "7tX0CWw77HIk",
        "colab_type": "text"
      },
      "source": [
        "######Type_casting\n"
      ]
    },
    {
      "cell_type": "code",
      "metadata": {
        "id": "CKtlX5rC61Qc",
        "colab_type": "code",
        "colab": {
          "base_uri": "https://localhost:8080/",
          "height": 68
        },
        "outputId": "2f70c810-fb48-43f3-aa9a-5dbbf99b2b52"
      },
      "source": [
        "# String can change into integers and float \n",
        "a = \"57\"\n",
        "print(type(a))\n",
        "print(type(int(a)))\n",
        "print(type(float(a)))\n"
      ],
      "execution_count": null,
      "outputs": [
        {
          "output_type": "stream",
          "text": [
            "<class 'str'>\n",
            "<class 'int'>\n",
            "<class 'float'>\n"
          ],
          "name": "stdout"
        }
      ]
    },
    {
      "cell_type": "code",
      "metadata": {
        "id": "zVzZ59Pn8eCF",
        "colab_type": "code",
        "colab": {
          "base_uri": "https://localhost:8080/",
          "height": 68
        },
        "outputId": "fa01655c-7463-434a-a82b-f1c9a000ee9b"
      },
      "source": [
        "# Integer can change into string and float\n",
        "a=40\n",
        "print(type(a))\n",
        "print(type(str(a)))\n",
        "print(type(float(a)))"
      ],
      "execution_count": null,
      "outputs": [
        {
          "output_type": "stream",
          "text": [
            "<class 'int'>\n",
            "<class 'str'>\n",
            "<class 'float'>\n"
          ],
          "name": "stdout"
        }
      ]
    },
    {
      "cell_type": "code",
      "metadata": {
        "id": "W3MaYV00AsYI",
        "colab_type": "code",
        "colab": {
          "base_uri": "https://localhost:8080/",
          "height": 68
        },
        "outputId": "ef6b35d4-12e2-41e0-9403-ba88813811c7"
      },
      "source": [
        "#Float can change into string and integer\n",
        "a=609.5\n",
        "print(type(a))\n",
        "print(type(str(a)))\n",
        "print(type(int(a)))"
      ],
      "execution_count": null,
      "outputs": [
        {
          "output_type": "stream",
          "text": [
            "<class 'float'>\n",
            "<class 'str'>\n",
            "<class 'int'>\n"
          ],
          "name": "stdout"
        }
      ]
    },
    {
      "cell_type": "markdown",
      "metadata": {
        "id": "K283HzmT4lPZ",
        "colab_type": "text"
      },
      "source": [
        "####String_Slicing_And_Other_Functions"
      ]
    },
    {
      "cell_type": "code",
      "metadata": {
        "id": "unTnUIh74kpd",
        "colab_type": "code",
        "colab": {
          "base_uri": "https://localhost:8080/",
          "height": 85
        },
        "outputId": "7313fc5b-38a4-45f5-ad0f-84572a4256da"
      },
      "source": [
        "#I can measure the lenth of string, i.e, how many characters in the string by using 'len' reserved word\n",
        "mynum = '123456789'                                     \n",
        "print(len(mynum))\n",
        "#I can also print a part of string. \n",
        "  #Like, I want to print the string character from1to7\n",
        "print(mynum[0:8])\n",
        "\"\"\"I am using '0' in the code to print '1' in the string. This is because python does not count from '1', it counts from'0'. There is also\n",
        "   one more question, i.e, if python counts from '0', so the total characters should be print '9' according to code!!??? No, total '9' \n",
        "   characters will not print because, in code, I write '0', python start printing from '1' in string. I write '8' python should stop \n",
        "   printing at '9' according to you. But python stopped at'8'. This is because, when I write '1' in code, python include '0'. But when I \n",
        "   write '8' in code, python exclude '8' \"\"\"\n",
        "# If I want to print 8th character in the string, so I write,\n",
        "print(mynum[7])\n",
        "#print(mynum[59]) it will show error. But if I write\n",
        "print(mynum[0:265]) #it will not so error\n"
      ],
      "execution_count": 11,
      "outputs": [
        {
          "output_type": "stream",
          "text": [
            "9\n",
            "12345678\n",
            "8\n",
            "123456789\n"
          ],
          "name": "stdout"
        }
      ]
    },
    {
      "cell_type": "code",
      "metadata": {
        "id": "h56meQSnEpAc",
        "colab_type": "code",
        "colab": {}
      },
      "source": [
        ""
      ],
      "execution_count": null,
      "outputs": []
    }
  ]
}