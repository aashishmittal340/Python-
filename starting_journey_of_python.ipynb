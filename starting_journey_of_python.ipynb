{
  "nbformat": 4,
  "nbformat_minor": 0,
  "metadata": {
    "colab": {
      "name": "Untitled0.ipynb",
      "provenance": [],
      "authorship_tag": "ABX9TyNWBEjgl1Y0qX5MPQdjxDQM",
      "include_colab_link": true
    },
    "kernelspec": {
      "name": "python3",
      "display_name": "Python 3"
    }
  },
  "cells": [
    {
      "cell_type": "markdown",
      "metadata": {
        "id": "view-in-github",
        "colab_type": "text"
      },
      "source": [
        "<a href=\"https://colab.research.google.com/github/aashishmittal340/Python-/blob/master/starting_journey_of_python.ipynb\" target=\"_parent\"><img src=\"https://colab.research.google.com/assets/colab-badge.svg\" alt=\"Open In Colab\"/></a>"
      ]
    },
    {
      "cell_type": "markdown",
      "metadata": {
        "id": "4Dk9WaLGsV6c",
        "colab_type": "text"
      },
      "source": [
        "###My_first_conversational_calculator"
      ]
    },
    {
      "cell_type": "code",
      "metadata": {
        "id": "HVj5F93N3xyc",
        "colab_type": "code",
        "colab": {
          "base_uri": "https://localhost:8080/",
          "height": 153
        },
        "outputId": "e33cf1d8-188e-42c8-9c6f-28d42975fc36"
      },
      "source": [
        "print(\"what is your name, operator\")\n",
        "sur_name = \"Mr \" \n",
        "name = input()\n",
        "full_name =  sur_name +name\n",
        "print(\"type any number \",full_name)\n",
        "num1 = input()\n",
        "print(\"type one more number that you would like to add up\")\n",
        "num2 = input()\n",
        "sum = int(num1) + int(num2)\n",
        "print(\"the sum is\", sum, sur_name)\n",
        "print(\"Bye-bye....! \",full_name)"
      ],
      "execution_count": null,
      "outputs": [
        {
          "output_type": "stream",
          "text": [
            "what is your name, operator\n",
            "Aashish mittal\n",
            "type any number  Mr Aashish mittal\n",
            "56\n",
            "type one more number that you would like to add up\n",
            "465\n",
            "the sum is 521 Mr \n",
            "Bye-bye....!  Mr Aashish mittal\n"
          ],
          "name": "stdout"
        }
      ]
    },
    {
      "cell_type": "code",
      "metadata": {
        "id": "WUKxinTj3yx6",
        "colab_type": "code",
        "colab": {}
      },
      "source": [
        ""
      ],
      "execution_count": null,
      "outputs": []
    }
  ]
}