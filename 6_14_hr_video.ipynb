{
  "nbformat": 4,
  "nbformat_minor": 0,
  "metadata": {
    "colab": {
      "name": "6:14_hr_video",
      "provenance": [],
      "collapsed_sections": [],
      "authorship_tag": "ABX9TyNXiQJLhg9Y/6pnNzizJKzO",
      "include_colab_link": true
    },
    "kernelspec": {
      "name": "python3",
      "display_name": "Python 3"
    }
  },
  "cells": [
    {
      "cell_type": "markdown",
      "metadata": {
        "id": "view-in-github",
        "colab_type": "text"
      },
      "source": [
        "<a href=\"https://colab.research.google.com/github/aashishmittal340/Python-/blob/master/6_14_hr_video.ipynb\" target=\"_parent\"><img src=\"https://colab.research.google.com/assets/colab-badge.svg\" alt=\"Open In Colab\"/></a>"
      ]
    },
    {
      "cell_type": "markdown",
      "metadata": {
        "id": "F1Td79372q-7"
      },
      "source": [
        "Python *codes*\r\n"
      ]
    },
    {
      "cell_type": "markdown",
      "metadata": {
        "id": "UkNuUeUO7Dxq"
      },
      "source": [
        "Basic mathematical operations and data types\r\n",
        "___"
      ]
    },
    {
      "cell_type": "code",
      "metadata": {
        "id": "wH_oT-hpnxLm"
      },
      "source": [
        "print (\"hello world\")"
      ],
      "execution_count": null,
      "outputs": []
    },
    {
      "cell_type": "code",
      "metadata": {
        "id": "8hsVOImiq-Z5"
      },
      "source": [
        "13+2"
      ],
      "execution_count": null,
      "outputs": []
    },
    {
      "cell_type": "code",
      "metadata": {
        "id": "Oo8HPHHBqsao"
      },
      "source": [
        "2*5"
      ],
      "execution_count": null,
      "outputs": []
    },
    {
      "cell_type": "code",
      "metadata": {
        "id": "PzM6NDL7rQmt"
      },
      "source": [
        "10/5 #this is the float"
      ],
      "execution_count": null,
      "outputs": []
    },
    {
      "cell_type": "code",
      "metadata": {
        "id": "T_P80yYBrlQr"
      },
      "source": [
        "10//5 #this is the integer "
      ],
      "execution_count": null,
      "outputs": []
    },
    {
      "cell_type": "code",
      "metadata": {
        "id": "6kWpNxD_rlnq"
      },
      "source": [
        "10//3 #this is the integer"
      ],
      "execution_count": null,
      "outputs": []
    },
    {
      "cell_type": "code",
      "metadata": {
        "id": "3hBicDfXs3Pd"
      },
      "source": [
        "10/3 #this is the float"
      ],
      "execution_count": null,
      "outputs": []
    },
    {
      "cell_type": "code",
      "metadata": {
        "id": "500Sn-A5s8K0"
      },
      "source": [
        "12/2*5-3+5 #which one will be run first, well [BEDMAS] formulae"
      ],
      "execution_count": null,
      "outputs": []
    },
    {
      "cell_type": "code",
      "metadata": {
        "id": "o9E7mC0ctsaC"
      },
      "source": [
        "(8*2) * 5"
      ],
      "execution_count": null,
      "outputs": []
    },
    {
      "cell_type": "code",
      "metadata": {
        "id": "1vHGjnNfuuRT"
      },
      "source": [
        "#If we want to exponent a number so we should use for is given below\n",
        "7**3 # hence \"**\" is used as exponent"
      ],
      "execution_count": null,
      "outputs": []
    },
    {
      "cell_type": "code",
      "metadata": {
        "id": "O7B0wzWRyHza"
      },
      "source": [
        "10//3 # if we use // so it only gives quotient not along with reminder"
      ],
      "execution_count": null,
      "outputs": []
    },
    {
      "cell_type": "code",
      "metadata": {
        "id": "Jj0Ca6hny1GO"
      },
      "source": [
        "10%3 #so it will give you only its reminder\n",
        "     # '%' this sign in called 'modules' in python\n",
        "      "
      ],
      "execution_count": null,
      "outputs": []
    },
    {
      "cell_type": "code",
      "metadata": {
        "id": "6EEH6Bax2_e6"
      },
      "source": [
        "a = ('*'*10)\n",
        "print (a)\n",
        "print (\"finish\")"
      ],
      "execution_count": null,
      "outputs": []
    },
    {
      "cell_type": "code",
      "metadata": {
        "id": "Xpuyu-8450QA"
      },
      "source": [
        "#EXERCISE\r\n",
        "name= input('WHAT IS YOUR NAME? ')\r\n",
        "print ('Hi '+ name )\r\n",
        "color= input('what is your favourite color '+ name )\r\n",
        "print('your favourite color is', color, name)\r\n",
        "print('Program is end')"
      ],
      "execution_count": null,
      "outputs": []
    },
    {
      "cell_type": "code",
      "metadata": {
        "id": "ZRkCGkf-DPFo"
      },
      "source": [
        "#EXERCISE \n",
        "current_year = input('what is current year')\n",
        "birth_year = input('what is your birth year')\n",
        "age = (int(current_year) - int(birth_year))\n",
        "print ('your are', age)\n"
      ],
      "execution_count": null,
      "outputs": []
    },
    {
      "cell_type": "code",
      "metadata": {
        "id": "LExUCSl953yY"
      },
      "source": [
        "weight = input('what is your weight ')\r\n",
        "kg = (float(weight))\r\n",
        "pound = (float(kg)*float(2.204))\r\n",
        "print ('your weight in kilogram is ' + str(kg)+ \",\\nAnd your weight in pound is \" + str(pound))"
      ],
      "execution_count": null,
      "outputs": []
    },
    {
      "cell_type": "code",
      "metadata": {
        "id": "Yqt8s7r55_-O"
      },
      "source": [
        "#Python run triple singal quote('''-----''') for multiline comment(or print) and hashtag(#) run as a single line comment"
      ],
      "execution_count": null,
      "outputs": []
    },
    {
      "cell_type": "code",
      "metadata": {
        "colab": {
          "base_uri": "https://localhost:8080/"
        },
        "id": "ZWcOh1OF13iW",
        "outputId": "a169d721-f3e6-4ad1-fbec-1aae82da6c80"
      },
      "source": [
        "# We also use as\r\n",
        "print(\"\"\"hello\r\n",
        "world,\r\n",
        "I am \r\n",
        "a \r\n",
        "robust\r\n",
        "codder\r\n",
        "\"\"\")"
      ],
      "execution_count": 41,
      "outputs": [
        {
          "output_type": "stream",
          "text": [
            "hello\n",
            "world,\n",
            "I am \n",
            "a \n",
            "robust\n",
            "codder\n",
            "\n"
          ],
          "name": "stdout"
        }
      ]
    },
    {
      "cell_type": "markdown",
      "metadata": {
        "id": "XV6kByw-8Gzr"
      },
      "source": [
        "Indexes in Python\r\n",
        "____________\r\n"
      ]
    },
    {
      "cell_type": "code",
      "metadata": {
        "id": "ZQmMBr1C8GdF"
      },
      "source": [
        "print('hello world')\r\n",
        "# In the above string, the each character of the string is known as the \"Index\"\r\n",
        "\r\n",
        "# We can print the particular index of the string\r\n",
        " \r\n",
        "# Each index of the string is automatically numberized in python from 0(zero) to infinite. for example, in the string python itself numberized : h as 0, e-1, l-2, l-3, o-4, -5, w-6, o-7, r-8, l-9, d-10\r\n",
        "\r\n",
        "# Python also count white space i.e, space between hello and world in the string\r\n",
        "\r\n",
        "# Python count first index as 0(zero) and the last index as -1, -2, and so on"
      ],
      "execution_count": null,
      "outputs": []
    },
    {
      "cell_type": "code",
      "metadata": {
        "id": "3uYX7f_o-yGW"
      },
      "source": [
        "# To get first index, firstlly we assume the string as:\r\n",
        "a = \"hello world\""
      ],
      "execution_count": null,
      "outputs": []
    },
    {
      "cell_type": "code",
      "metadata": {
        "id": "jgUCTCOKIO7B"
      },
      "source": [
        "# then,\r\n",
        "print (a[0])"
      ],
      "execution_count": null,
      "outputs": []
    },
    {
      "cell_type": "code",
      "metadata": {
        "id": "Qtf6dqioDWvH"
      },
      "source": [
        "print(a[-1]) # the output is \"d\" i.e, the last index of \"a\""
      ],
      "execution_count": null,
      "outputs": []
    },
    {
      "cell_type": "code",
      "metadata": {
        "id": "PxvkG-VCDczZ"
      },
      "source": [
        "print(a[0:3]) \r\n",
        "# If we want to print some index so we write them as propartion that first proportion mean \"form which index python must start printing\" and the second proportion mean  \"till\"\r\n",
        "\r\n",
        "# Python exclude the 2nd proportion"
      ],
      "execution_count": null,
      "outputs": []
    },
    {
      "cell_type": "code",
      "metadata": {
        "id": "7hDVXMmKHCfk"
      },
      "source": [
        "print(a[1:]) # If we make blank to the second proportion. Python itself assume number that which is the last index position in number of the string as a second proportion\r\n"
      ],
      "execution_count": null,
      "outputs": []
    },
    {
      "cell_type": "code",
      "metadata": {
        "id": "PxiNKRdmKcir"
      },
      "source": [
        "print(a[:5])\r\n",
        "# Python itself assume first proportion as a 0(zero) so that it can print index from starting"
      ],
      "execution_count": null,
      "outputs": []
    },
    {
      "cell_type": "code",
      "metadata": {
        "id": "vO4Xh2pyKuW_"
      },
      "source": [
        "print(a[:]) # Python itself assume first proportion as starting index i.e, 0(zero) and the last proportion as the last index position in number"
      ],
      "execution_count": null,
      "outputs": []
    },
    {
      "cell_type": "code",
      "metadata": {
        "id": "J3OO1NMgL2DV"
      },
      "source": [
        "print(a[1:-1]) # Python print from 1(e) to -2(l). Python would not print -1 the reason is that it would exclude it"
      ],
      "execution_count": null,
      "outputs": []
    },
    {
      "cell_type": "markdown",
      "metadata": {
        "id": "LIeHnd3BKNtb"
      },
      "source": [
        "**STRINGS**\r\n",
        "__________"
      ]
    },
    {
      "cell_type": "markdown",
      "metadata": {
        "id": "AqU7v6jASLZG"
      },
      "source": [
        "Formated string"
      ]
    },
    {
      "cell_type": "code",
      "metadata": {
        "id": "VarGGjaYSO8m"
      },
      "source": [
        "name = \"Aashish \"\r\n",
        "last_name = \"mittal\"\r\n",
        "full = (name + '[' + last_name +'] is robust coder' )\r\n",
        "print(full)   \r\n",
        "# But another way to write is written below cell:"
      ],
      "execution_count": null,
      "outputs": []
    },
    {
      "cell_type": "code",
      "metadata": {
        "id": "Uagg0KZeQ52W"
      },
      "source": [
        "name = \"Aashish\"\r\n",
        "last_name = \"mittal\"\r\n",
        "full = f'{name} [{last_name}] is a robust coder' # Here the prefix 'f' is symbolized as \"formated\"\r\n",
        "print(full)\r\n",
        "# This is called \"FORMATED STRING\""
      ],
      "execution_count": null,
      "outputs": []
    },
    {
      "cell_type": "markdown",
      "metadata": {
        "id": "FDWjPsjnHoYX"
      },
      "source": [
        "Methods for string(String methods)"
      ]
    },
    {
      "cell_type": "code",
      "metadata": {
        "id": "yvIBO-aPEPfR"
      },
      "source": [
        "full_name = 'Aashish Mittal'\r\n"
      ],
      "execution_count": null,
      "outputs": []
    },
    {
      "cell_type": "markdown",
      "metadata": {
        "id": "E5L-QKKBO2Mz"
      },
      "source": [
        "we can change to the indexs of the variable into another form"
      ]
    },
    {
      "cell_type": "code",
      "metadata": {
        "id": "jtMsZ5pZIDsi"
      },
      "source": [
        "# full_name.upper() is used to make all the characters of the string in upper case.\r\n",
        "\r\n",
        "print (full_name.upper())"
      ],
      "execution_count": null,
      "outputs": []
    },
    {
      "cell_type": "code",
      "metadata": {
        "id": "meJhqCUcKYRg"
      },
      "source": [
        "# full_name.lower() is used to make all the characters of the string in lower case.\r\n",
        " \r\n",
        "print (full_name.lower())"
      ],
      "execution_count": null,
      "outputs": []
    },
    {
      "cell_type": "code",
      "metadata": {
        "id": "0eWKHeLeLiSb"
      },
      "source": [
        "# we can find the character in the string \r\n",
        "# full_name.find('***') is used to find character in the string\r\n",
        "# ****.find method is a case sensitive\r\n",
        "\r\n",
        "print(full_name.find(\"A\")) # It gives 0 that mean the character that we want to find is lie at the place of 0 index\r\n",
        "\r\n",
        "print(full_name.find('H')) # Its output shows -1 that there is not such as we find in the string\r\n",
        "                           # It always show -1 if it would not find the by find method\r\n",
        "\r\n",
        "# We should not just only find the index(alphebats or digit), we can also find the sequence of indexes(word or number) as well by find method.\r\n",
        "\r\n",
        "print(full_name.find('Mittal')) # i.e, the mittal starts from 8th index              "
      ],
      "execution_count": null,
      "outputs": []
    },
    {
      "cell_type": "code",
      "metadata": {
        "id": "Bz3YDYBfPM3h"
      },
      "source": [
        "# We can replace the index(only character) or the sequence of indexes(sequence of character or word) \r\n",
        "\r\n",
        "print(full_name.replace('Aashish','The great Aashish')) \r\n",
        "\r\n",
        "print(full_name.replace('a','A'))\r\n"
      ],
      "execution_count": null,
      "outputs": []
    },
    {
      "cell_type": "code",
      "metadata": {
        "id": "Yt2BnKaRPRj4"
      },
      "source": [
        "# If we want ask to python \"Is the sequence of character(word or number) in string or variable?\"\r\n",
        " \r\n",
        "print('Mittal' in full_name)\r\n",
        "\r\n",
        "'''\"\"\" DIFFERENCE BETWEEN 'find method' and 'in method'\r\n",
        "                            'find method'                                                                'in method'\r\n",
        "\r\n",
        "   i. It gives its output in bollen  value                                       i. It give its true answer in index position and false    \r\n",
        "                                                                                    in '-1'\r\n",
        "\r\n",
        "\"\"\"'''   \r\n",
        "\r\n"
      ],
      "execution_count": null,
      "outputs": []
    },
    {
      "cell_type": "markdown",
      "metadata": {
        "id": "074wfPLX9SmU"
      },
      "source": [
        "String method's summery"
      ]
    },
    {
      "cell_type": "code",
      "metadata": {
        "id": "_0iqrNyXjIZM"
      },
      "source": [
        "\"\"\"\r\n",
        "full_name.capitalize()\r\n",
        "full_name.lower()\r\n",
        "full_name.upper()\r\n",
        "full_name.find()\r\n",
        "full_name.replace()\r\n",
        "\"\"\""
      ],
      "execution_count": null,
      "outputs": []
    },
    {
      "cell_type": "markdown",
      "metadata": {
        "id": "wdXTVDmY95KI"
      },
      "source": [
        "Arithmetic operations \r\n",
        "____________"
      ]
    },
    {
      "cell_type": "code",
      "metadata": {
        "id": "6YX1Y4-8BscJ"
      },
      "source": [
        "print(10+2)    # used for Addition"
      ],
      "execution_count": null,
      "outputs": []
    },
    {
      "cell_type": "code",
      "metadata": {
        "id": "9Lp_PSOpB4Yg"
      },
      "source": [
        "print(10-2)    # used for subtraction"
      ],
      "execution_count": null,
      "outputs": []
    },
    {
      "cell_type": "code",
      "metadata": {
        "id": "fzDoonQUB9TP"
      },
      "source": [
        "print(10/3)    # used for divition"
      ],
      "execution_count": null,
      "outputs": []
    },
    {
      "cell_type": "code",
      "metadata": {
        "id": "FG_JwS10CFIZ"
      },
      "source": [
        "print(10//3)   # used for integer quitent"
      ],
      "execution_count": null,
      "outputs": []
    },
    {
      "cell_type": "code",
      "metadata": {
        "id": "K-6L0fjzCJqX"
      },
      "source": [
        "print(10%3)    # used for reminder"
      ],
      "execution_count": null,
      "outputs": []
    },
    {
      "cell_type": "code",
      "metadata": {
        "id": "Oy0T9e8gCOc3"
      },
      "source": [
        "print(10*2)    # used for multiplication"
      ],
      "execution_count": null,
      "outputs": []
    },
    {
      "cell_type": "code",
      "metadata": {
        "id": "hvP2osgSCSNA"
      },
      "source": [
        "print(10**2)   # used for exponent"
      ],
      "execution_count": null,
      "outputs": []
    },
    {
      "cell_type": "code",
      "metadata": {
        "id": "mPR7bOQVDv9P"
      },
      "source": [
        "a = 10 \r\n",
        "a = a +3\r\n",
        "print(a) \r\n",
        "\r\n",
        "#    or  we   can   use \r\n",
        "\r\n",
        "a =  10 \r\n",
        "a += 3 \r\n",
        "print(a)\r\n",
        " \r\n",
        "# The operation '+=' is called ' augmented assignment operation'\r\n"
      ],
      "execution_count": null,
      "outputs": []
    },
    {
      "cell_type": "code",
      "metadata": {
        "id": "SjdP9us0FeC2"
      },
      "source": [
        "a = 10\r\n",
        "a -= 3\r\n",
        "print(a)"
      ],
      "execution_count": null,
      "outputs": []
    },
    {
      "cell_type": "markdown",
      "metadata": {
        "id": "6Sf7LnL2N_hh"
      },
      "source": [
        "BEDMAS OR OPERATION'S RULE and maths operators\r\n",
        "________\r\n"
      ]
    },
    {
      "cell_type": "code",
      "metadata": {
        "id": "41T2PWNdFd-E"
      },
      "source": [
        "\"\"\"\r\n",
        "B - BRACKET\r\n",
        "E - EXPONENT\r\n",
        "D - DIVITION\r\n",
        "M - MULTIPLICATION\r\n",
        "A - ADDITION  \r\n",
        "S - SUBTRACTION\r\n",
        "\"\"\""
      ],
      "execution_count": null,
      "outputs": []
    },
    {
      "cell_type": "code",
      "metadata": {
        "id": "dj2zJZG8O47t"
      },
      "source": [
        "a = ( 10 + 6) * 3 / 1 -2 **1\r\n",
        "print(a)\r\n",
        "a = 100//9*2+12-4**3%4 # i.e; BEDMAS\r\n",
        "print(a)"
      ],
      "execution_count": null,
      "outputs": []
    },
    {
      "cell_type": "code",
      "metadata": {
        "id": "ZCf5luJoVNAi"
      },
      "source": [
        "#We can also round off the number in python by using \"round\" built-in function\r\n",
        "\r\n",
        "a = 10.6\r\n",
        "print(round(a))"
      ],
      "execution_count": null,
      "outputs": []
    },
    {
      "cell_type": "code",
      "metadata": {
        "id": "P-7W6lgwWB5Y"
      },
      "source": [
        "# We can also print desired decimal print\r\n",
        "\r\n",
        "a = 12.2561\r\n",
        "round(a,2) \r\n",
        "round(a,6)"
      ],
      "execution_count": null,
      "outputs": []
    },
    {
      "cell_type": "code",
      "metadata": {
        "id": "BcPFHczEVVJ9"
      },
      "source": [
        "# The one more function is that we can also print positive number even if it would be -ve\r\n",
        "a=-23.3\r\n",
        "print(abs(a)) # Here the function '"
      ],
      "execution_count": null,
      "outputs": []
    },
    {
      "cell_type": "code",
      "metadata": {
        "id": "eQQgWC5_5YRL"
      },
      "source": [
        "# If we write a program that process the complex mathematical calculation. So we need to import math module"
      ],
      "execution_count": null,
      "outputs": []
    },
    {
      "cell_type": "code",
      "metadata": {
        "id": "Zjn4IhIR_CIw"
      },
      "source": [
        "import math\r\n",
        "print(math.ceil(200.1))   # Ceil mean roof and roof is at top, so if an rational number is run by this operator so its out put always be the next integer \r\n",
        "print(math.floor(20.99))  # Floor mean base  and base is at bottom, so if any rational naumber is run by this operation so it will change into integer form like rational(200.99) changed into integer (200)\r\n"
      ],
      "execution_count": null,
      "outputs": []
    },
    {
      "cell_type": "markdown",
      "metadata": {
        "id": "AcjIUgJHJdbD"
      },
      "source": [
        "know more about OPERATIONS:- https://www.w3schools.com/python/module_math.asp"
      ]
    },
    {
      "cell_type": "markdown",
      "metadata": {
        "id": "RuZTYDv3BNAN"
      },
      "source": [
        "**IF STATEMENTS**\r\n",
        "____________"
      ]
    },
    {
      "cell_type": "code",
      "metadata": {
        "id": "TR-pFGoEBQ8V"
      },
      "source": [
        "is_hot = False\r\n",
        "\r\n",
        "is_cold = False\r\n",
        "if is_hot :\r\n",
        "    print('Its a hot day ')\r\n",
        "    print('Drink planty of water')\r\n",
        "elif is_cold :\r\n",
        "    print('Its a cold day')\r\n",
        "    print('Wear warm cloths ') \r\n",
        "else:\r\n",
        "    print('Its a lovely day')"
      ],
      "execution_count": null,
      "outputs": []
    },
    {
      "cell_type": "code",
      "metadata": {
        "id": "6fQObNWFHvAC"
      },
      "source": [
        "# write the program\r\n",
        "\r\n",
        "'''\r\n",
        "price of a house is $1M.\r\n",
        "If buyer has good creadit,\r\n",
        "  they need to put down 10%\r\n",
        "otherwise\r\n",
        "  they nees to put down 20%\r\n",
        "print down the payment\r\n",
        "'''\r\n",
        "\r\n",
        "price = 1000000\r\n",
        "has_good_creadit = True\r\n",
        "\r\n",
        "if has_good_creadit:\r\n",
        "  down_payment = 0.1 * price\r\n",
        "else:\r\n",
        "  down_payment = 0.2 * price\r\n",
        "print(f'The payment is $ {down_payment}')\r\n"
      ],
      "execution_count": null,
      "outputs": []
    },
    {
      "cell_type": "markdown",
      "metadata": {
        "id": "hBdmHsXTKAnk"
      },
      "source": [
        "Logical operator [if statement]"
      ]
    },
    {
      "cell_type": "code",
      "metadata": {
        "id": "BTBP1rB4KI8A"
      },
      "source": [
        "# logical operator are use as the if statement like if we wanna make a program as:\r\n",
        "# If applicant has high income AND good creadit is eligible for loan. So make this program as;\r\n",
        " \r\n",
        "has_high_income = True\r\n",
        "has_good_creadit = True\r\n",
        "\r\n",
        "if has_good_creadit and has_high_income:\r\n",
        "  print(\"eligible for loan\")\r\n",
        "\r\n",
        "# 'and' operator is used when both the condition is true. \r\n",
        "# We can also use the operator when even one condition is true. \r\n",
        "# We use 'or' operator when one condition is true\r\n",
        "# The instruction of program of 'or' operator is written below;\r\n",
        "# If applicant has high income OR good creadit is eligible for loan.\r\n",
        "\r\n",
        "if has_good_creadit or has_high_income:\r\n",
        "  print(\"eligible for loan\")\r\n",
        "\r\n",
        "# In the first condition both condition must be true so we use for it-------------------------------operator 'and'-------------------------------------------------------------\r\n",
        "# In the second condition at least one condition must be true so we use for it----------------------operator 'or'--------------------------------------------------------------\r\n",
        " \r\n",
        "# But if in case the one condition must be true and other must be false to print the result so that time we use 'not' operator. like \r\n",
        "# \"If the applicant has good creadit and has not criminal record \" , in this case applicant should be good creadit and does not have criminal record only then it will print the result\r\n",
        "\r\n",
        "has_good_creadit = True \r\n",
        "has_criminal_record = False\r\n",
        "\r\n",
        "if has_good_creadit and not has_criminal_record:\r\n",
        "  print('eligible for loan')"
      ],
      "execution_count": null,
      "outputs": []
    },
    {
      "cell_type": "markdown",
      "metadata": {
        "id": "_x2WXF3CSSfs"
      },
      "source": [
        "Comparison operator [if statement]"
      ]
    },
    {
      "cell_type": "code",
      "metadata": {
        "colab": {
          "base_uri": "https://localhost:8080/"
        },
        "id": "gfz2wnBNS62D",
        "outputId": "8a2ba584-495b-48c0-d00b-6d9e3adcec20"
      },
      "source": [
        "'''\r\n",
        "if temperature is greater than 30\r\n",
        "    it's a hot day\r\n",
        "otherwise if it's less than 10\r\n",
        "    it's a cold day\r\n",
        "otherwise\r\n",
        "    it's neither hot nor cold\r\n",
        "'''\r\n",
        "\r\n",
        "temperature = 30\r\n",
        "\r\n",
        "if temperature < 30:\r\n",
        "  print(\"it's a hot day \")\r\n",
        "elif temperature > 10:\r\n",
        "  print(\"it's a cold day\")\r\n",
        "else :\r\n",
        "  print(\"it's neither hot nor cold day\")\r\n",
        "\r\n",
        "'''\r\n",
        "the other comparision operator are:\r\n",
        "    . =<\r\n",
        "    . =>\r\n",
        "    . ==\r\n",
        "    . !=\r\n",
        "    . < \r\n",
        "    . >\r\n",
        "    . !=  #Is not equal to\r\n",
        "    \r\n"
      ],
      "execution_count": null,
      "outputs": [
        {
          "output_type": "stream",
          "text": [
            "it's a hot day \n"
          ],
          "name": "stdout"
        }
      ]
    },
    {
      "cell_type": "code",
      "metadata": {
        "id": "S47bzTnhUEj6"
      },
      "source": [
        "'''\r\n",
        "if name is less than 3 characters long\r\n",
        "    name must be at least 3 character\r\n",
        "otherwise if it's more than 50 characters long\r\n",
        "    name can be a maximum of 50 characters\r\n",
        "otherwise\r\n",
        "    name looks good!\r\n",
        "'''\r\n",
        "\r\n",
        "\r\n",
        "name = \"Aashish Mittal\"\r\n",
        "name = (len(name))\r\n",
        "if name <3:\r\n",
        "  print('name must be atleast 3 characters')\r\n",
        "elif name >50:\r\n",
        "  print('name can be maximun of 50 character')\r\n",
        "else:\r\n",
        "  print('name looks good! ')\r\n"
      ],
      "execution_count": null,
      "outputs": []
    },
    {
      "cell_type": "markdown",
      "metadata": {
        "id": "HeDRjHkyNNBl"
      },
      "source": [
        "Weight converter"
      ]
    },
    {
      "cell_type": "code",
      "metadata": {
        "id": "ydg_bZRlNUm7"
      },
      "source": [
        "# My_program\r\n",
        "\r\n",
        "weight = input('weight:')\r\n",
        "weight= float(weight)\r\n",
        "weight_form = input('Is your weight in pound(p) or kg(K)')\r\n",
        "if weight_form.upper()==\"P\":\r\n",
        "    print(weight * (1/2.20462)+'kg')\r\n",
        "elif weight_form.upper() =='K':\r\n",
        "    print(weight * 2.20462,'pound')\r\n",
        "print('------------------------------')\r\n",
        "# Sir's program\r\n",
        "\r\n",
        "weight = int(input('Weight'))\r\n",
        "unit = input('(P) for pounds or (K) kilo')\r\n",
        "if unit.upper()==\"L\":\r\n",
        "  converted = weight * 0.45\r\n",
        "  print(f\"You are {converted} kilos\")\r\n",
        "else:\r\n",
        "  converted = weight / 0.45\r\n",
        "  print(f'You are {converted} pounds')"
      ],
      "execution_count": null,
      "outputs": []
    },
    {
      "cell_type": "markdown",
      "metadata": {
        "id": "EQ576e35dsuh"
      },
      "source": [
        "WHILE LOOP\r\n",
        "_______"
      ]
    },
    {
      "cell_type": "code",
      "metadata": {
        "id": "M5zxTKdnRENH"
      },
      "source": [
        "index = 1 \r\n",
        "while index <= 5:\r\n",
        "    print(index)\r\n",
        "    index = index + 1\r\n",
        "print(\"done\")"
      ],
      "execution_count": null,
      "outputs": []
    },
    {
      "cell_type": "code",
      "metadata": {
        "id": "7rLp5s7CgA9J"
      },
      "source": [
        "index = 1 \r\n",
        "while index <= 5:\r\n",
        "    print(\"*\" *index)\r\n",
        "    index = index + 1\r\n",
        "print(\"done\")"
      ],
      "execution_count": null,
      "outputs": []
    },
    {
      "cell_type": "code",
      "metadata": {
        "id": "yZiJsUs9gpH8"
      },
      "source": [
        "index = 1 \r\n",
        "while index <= 5:\r\n",
        "    print(\"|\" *index)\r\n",
        "    index = index + 1\r\n",
        "print(\"done\")"
      ],
      "execution_count": null,
      "outputs": []
    },
    {
      "cell_type": "markdown",
      "metadata": {
        "id": "ClRdsRh5mH4z"
      },
      "source": [
        "**Games**\r\n",
        "______"
      ]
    },
    {
      "cell_type": "markdown",
      "metadata": {
        "id": "ky7AHb4FiC-P"
      },
      "source": [
        "Gussing game"
      ]
    },
    {
      "cell_type": "code",
      "metadata": {
        "id": "vLsoaqOhiB2n"
      },
      "source": [
        "secret_num = 9\r\n",
        "guess_count = 0\r\n",
        "guess_limit = 3\r\n",
        "while guess_count < guess_limit:\r\n",
        "  guess = int(input('Guess'))\r\n",
        "  guess_count += 1\r\n",
        "  if guess == secret_num:\r\n",
        "    print('you won')\r\n",
        "    break\r\n",
        "else:\r\n",
        "  print('Soory, you failed. Try again!')"
      ],
      "execution_count": null,
      "outputs": []
    },
    {
      "cell_type": "markdown",
      "metadata": {
        "id": "YiA0Yb3alQMY"
      },
      "source": [
        "https://youtu.be/_uQrJ0TkZlc?t=5053"
      ]
    },
    {
      "cell_type": "markdown",
      "metadata": {
        "id": "HY8G78BAmPno"
      },
      "source": [
        "Car game"
      ]
    },
    {
      "cell_type": "code",
      "metadata": {
        "id": "pXV5WBTlmOOR",
        "colab": {
          "base_uri": "https://localhost:8080/"
        },
        "outputId": "8723316e-1dc2-48cd-ed05-dad8456ef856"
      },
      "source": [
        "# my program\r\n",
        "\r\n",
        "condition = input('>')\r\n",
        "\r\n",
        "if condition.lower() == ('help'):\r\n",
        "  print('start - to start the game')\r\n",
        "  print(\"stop - to stop the car\")\r\n",
        "  print(\"to - exit\")\r\n",
        "    \r\n",
        "elif condition.lower() == ('start'):\r\n",
        "  print(\"Car started...Ready to go\")\r\n",
        "\r\n",
        "elif condition.lower() == (\"stop\"):\r\n",
        "  print(\"Car stopped\")\r\n",
        "\r\n",
        "elif condition.lower() == (\"quit\"):\r\n",
        "  print('bye')\r\n",
        "\r\n",
        "else:\r\n",
        "  print(\"I don't understand that\")\r\n"
      ],
      "execution_count": 42,
      "outputs": [
        {
          "output_type": "stream",
          "text": [
            ">help\n",
            "start - to start the game\n",
            "stop - to stop the car\n",
            "to - exit\n"
          ],
          "name": "stdout"
        }
      ]
    },
    {
      "cell_type": "markdown",
      "metadata": {
        "id": "SGX0xoOLq--O"
      },
      "source": [
        "https://youtu.be/_uQrJ0TkZlc?t=5451"
      ]
    },
    {
      "cell_type": "code",
      "metadata": {
        "id": "QmMaN-m220He"
      },
      "source": [
        "# Sir program\r\n",
        "\r\n",
        "command = \"\"\r\n",
        "while True:\r\n",
        "  command = input(\"> \").lower()\r\n",
        "  if command == \"start\":\r\n",
        "    print('car started...')\r\n",
        "  elif command == \"stop\":\r\n",
        "    print('car stopped')\r\n",
        "  elif command == 'help':\r\n",
        "    print(\"\"\"\r\n",
        "    start - to start the game\r\n",
        "    stop - to stop the car\r\n",
        "    exit - to exit\"\"\")\r\n",
        "  elif command == \"quit\":\r\n",
        "    break\r\n",
        "  else :\r\n",
        "    print(\"I don't understand that...s\")\r\n"
      ],
      "execution_count": null,
      "outputs": []
    },
    {
      "cell_type": "code",
      "metadata": {
        "id": "MiFwVvShtwLe"
      },
      "source": [
        "\r\n",
        "# Sir program\r\n",
        "\r\n",
        "command = \"\"\r\n",
        "started = False\r\n",
        "while True:\r\n",
        "  command = input(\"> \").lower()\r\n",
        "  if command == \"start\":\r\n",
        "    if started:\r\n",
        "      print('car is already started ')\r\n",
        "    else :\r\n",
        "      started = True\r\n",
        "      print('car started...')\r\n",
        "  elif command == \"stop\":\r\n",
        "    if not started:\r\n",
        "      print(\"car is already stopped\")\r\n",
        "    else :\r\n",
        "      started = False\r\n",
        "      print('car stopped.')\r\n",
        "  elif command == 'help':\r\n",
        "    print(\"\"\"\r\n",
        "    start - to start the game\r\n",
        "    stop - to stop the car\r\n",
        "    exit - to exit\"\"\")\r\n",
        "  elif command == \"quit\":\r\n",
        "    break\r\n",
        "  else :\r\n",
        "    print(\"I don't understand that...s\")\r\n"
      ],
      "execution_count": null,
      "outputs": []
    },
    {
      "cell_type": "code",
      "metadata": {
        "id": "RVnh2KOH_pW_"
      },
      "source": [
        ""
      ],
      "execution_count": null,
      "outputs": []
    }
  ]
}