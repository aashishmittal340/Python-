{
  "nbformat": 4,
  "nbformat_minor": 0,
  "metadata": {
    "colab": {
      "name": "Untitled0.ipynb",
      "provenance": [],
      "authorship_tag": "ABX9TyObEVCco2k/mHxWYYEUjxRn",
      "include_colab_link": true
    },
    "kernelspec": {
      "name": "python3",
      "display_name": "Python 3"
    }
  },
  "cells": [
    {
      "cell_type": "markdown",
      "metadata": {
        "id": "view-in-github",
        "colab_type": "text"
      },
      "source": [
        "<a href=\"https://colab.research.google.com/github/aashishmittal340/Python-/blob/master/Untitled0v.ipynb\" target=\"_parent\"><img src=\"https://colab.research.google.com/assets/colab-badge.svg\" alt=\"Open In Colab\"/></a>"
      ]
    },
    {
      "cell_type": "markdown",
      "metadata": {
        "id": "mxWLDAo1--zZ",
        "colab_type": "text"
      },
      "source": [
        "# Printing Hello World"
      ]
    },
    {
      "cell_type": "code",
      "metadata": {
        "id": "fo9KFwQP0o3x",
        "colab_type": "code",
        "colab": {
          "base_uri": "https://localhost:8080/",
          "height": 204
        },
        "outputId": "472185f2-f470-404b-94b4-9db48b7c42a6"
      },
      "source": [
        "var1 = \"hello Aashish \"\n",
        "var2 = \"Mittal\"\n",
        "var3 = 256\n",
        "var4 = 2\n",
        "print(10* 'hello world \\n')"
      ],
      "execution_count": 17,
      "outputs": [
        {
          "output_type": "stream",
          "text": [
            "hello world \n",
            "hello world \n",
            "hello world \n",
            "hello world \n",
            "hello world \n",
            "hello world \n",
            "hello world \n",
            "hello world \n",
            "hello world \n",
            "hello world \n",
            "\n"
          ],
          "name": "stdout"
        }
      ]
    },
    {
      "cell_type": "markdown",
      "metadata": {
        "id": "BjbaNOtd_ReA",
        "colab_type": "text"
      },
      "source": [
        "# My Calculator"
      ]
    },
    {
      "cell_type": "code",
      "metadata": {
        "id": "HVj5F93N3xyc",
        "colab_type": "code",
        "colab": {
          "base_uri": "https://localhost:8080/",
          "height": 153
        },
        "outputId": "2c4f6ce0-ee9d-477f-82ad-35f82179adad"
      },
      "source": [
        "print(\"what is your name, operator\")\n",
        "sur_name = \"Mr \" \n",
        "name = input()\n",
        "full_name =  sur_name +name\n",
        "print(\"type any number \",full_name)\n",
        "num1 = input()\n",
        "print(\"type one more number that you would like to add up\")\n",
        "num2 = input()\n",
        "sum = int(num1) + int(num2)\n",
        "print(\"the sum is\", sum, sur_name)\n",
        "print(\"Bye-bye....! \",full_name)"
      ],
      "execution_count": 25,
      "outputs": [
        {
          "output_type": "stream",
          "text": [
            "what is your name, operator\n",
            "aaashish\n",
            "type any number  Mr aaashish\n",
            "3\n",
            "type one more number that you would like to add up\n",
            "9\n",
            "the sum is 12 Mr \n",
            "Bye-bye....!  Mr aaashish\n"
          ],
          "name": "stdout"
        }
      ]
    },
    {
      "cell_type": "code",
      "metadata": {
        "id": "WUKxinTj3yx6",
        "colab_type": "code",
        "colab": {}
      },
      "source": [
        "what is your name, operator\n",
        "Aashish mittal\n",
        "type any number  Mr Aashish mittal\n",
        "56\n",
        "type one more number that you would like to add up\n",
        "465\n",
        "the sum is 521 Mr \n",
        "Bye-bye....!  Mr Aashish mittal"
      ],
      "execution_count": 24,
      "outputs": []
    },
    {
      "cell_type": "code",
      "metadata": {
        "id": "xpdLPsmY_xlQ",
        "colab_type": "code",
        "colab": {
          "base_uri": "https://localhost:8080/",
          "height": 34
        },
        "outputId": "c38f3673-91e5-47de-f3c9-f47616d7644b"
      },
      "source": [
        "len('aashish')"
      ],
      "execution_count": 26,
      "outputs": [
        {
          "output_type": "execute_result",
          "data": {
            "text/plain": [
              "7"
            ]
          },
          "metadata": {
            "tags": []
          },
          "execution_count": 26
        }
      ]
    },
    {
      "cell_type": "code",
      "metadata": {
        "id": "wMcM31QV_0pS",
        "colab_type": "code",
        "colab": {
          "base_uri": "https://localhost:8080/",
          "height": 34
        },
        "outputId": "4c0181f6-209a-414d-c47b-3b97af855381"
      },
      "source": [
        "print(56)"
      ],
      "execution_count": 29,
      "outputs": [
        {
          "output_type": "stream",
          "text": [
            "56\n"
          ],
          "name": "stdout"
        }
      ]
    },
    {
      "cell_type": "code",
      "metadata": {
        "id": "uwMJ7FKmFsYU",
        "colab_type": "code",
        "colab": {}
      },
      "source": [
        ""
      ],
      "execution_count": null,
      "outputs": []
    }
  ]
}