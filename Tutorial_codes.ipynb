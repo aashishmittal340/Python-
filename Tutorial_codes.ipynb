{
  "nbformat": 4,
  "nbformat_minor": 0,
  "metadata": {
    "colab": {
      "name": "Untitled0.ipynb",
      "provenance": [],
      "authorship_tag": "ABX9TyOoasyeh62VEtu2IMwxcv3N",
      "include_colab_link": true
    },
    "kernelspec": {
      "name": "python3",
      "display_name": "Python 3"
    }
  },
  "cells": [
    {
      "cell_type": "markdown",
      "metadata": {
        "id": "view-in-github",
        "colab_type": "text"
      },
      "source": [
        "<a href=\"https://colab.research.google.com/github/aashishmittal340/Python-/blob/master/Tutorial_codes.ipynb\" target=\"_parent\"><img src=\"https://colab.research.google.com/assets/colab-badge.svg\" alt=\"Open In Colab\"/></a>"
      ]
    },
    {
      "cell_type": "markdown",
      "metadata": {
        "id": "oLOsr6G6MIH9",
        "colab_type": "text"
      },
      "source": [
        "####How to write the statement\n"
      ]
    },
    {
      "cell_type": "code",
      "metadata": {
        "id": "fo9KFwQP0o3x",
        "colab_type": "code",
        "colab": {
          "base_uri": "https://localhost:8080/",
          "height": 34
        },
        "outputId": "416d8ea4-08d8-403d-f1ca-d89d38d55671"
      },
      "source": [
        "print(\"hello world\")\n"
      ],
      "execution_count": null,
      "outputs": [
        {
          "output_type": "stream",
          "text": [
            "hello world\n"
          ],
          "name": "stdout"
        }
      ]
    },
    {
      "cell_type": "markdown",
      "metadata": {
        "id": "48ZMFU5gMZCr",
        "colab_type": "text"
      },
      "source": [
        "####One and multiline comments"
      ]
    },
    {
      "cell_type": "code",
      "metadata": {
        "id": "e4eAO5BUC5bZ",
        "colab_type": "code",
        "colab": {}
      },
      "source": [
        "#this hastag sign use to tell PYTHON to ignore the pirticular line\n"
      ],
      "execution_count": null,
      "outputs": []
    },
    {
      "cell_type": "code",
      "metadata": {
        "id": "6TsmouJJDawI",
        "colab_type": "code",
        "colab": {
          "base_uri": "https://localhost:8080/",
          "height": 34
        },
        "outputId": "c7e29a9c-6d59-4407-fe82-fff175c24233"
      },
      "source": [
        "\"\"\"\n",
        "we \n",
        "use \n",
        "triple \n",
        "quote \n",
        "to \n",
        "ignore\n",
        "multiline\n",
        "comments\n",
        "\"\"\"\n",
        "print('have you cleare, what is single line comment and multiline comment')"
      ],
      "execution_count": null,
      "outputs": [
        {
          "output_type": "stream",
          "text": [
            "have you cleare, what is single line comment and multiline comment\n"
          ],
          "name": "stdout"
        }
      ]
    },
    {
      "cell_type": "markdown",
      "metadata": {
        "id": "WbP0ipYsNSyq",
        "colab_type": "text"
      },
      "source": [
        "####escape_sequence_character "
      ]
    },
    {
      "cell_type": "code",
      "metadata": {
        "id": "4vXn0PDcE3Zz",
        "colab_type": "code",
        "colab": {
          "base_uri": "https://localhost:8080/",
          "height": 51
        },
        "outputId": "a60a9511-f322-47ec-afe0-22e334249d57"
      },
      "source": [
        "# if I run this code, so these both statements comes in a new line; as I look as its output\n",
        "print(\"hello\")\n",
        "print(\"world\")\n"
      ],
      "execution_count": null,
      "outputs": [
        {
          "output_type": "stream",
          "text": [
            "hello\n",
            "world\n"
          ],
          "name": "stdout"
        }
      ]
    },
    {
      "cell_type": "code",
      "metadata": {
        "id": "XtlgZkfTF1w9",
        "colab_type": "code",
        "colab": {
          "base_uri": "https://localhost:8080/",
          "height": 34
        },
        "outputId": "6e9a715c-ae86-444a-b0e7-6911253bb54f"
      },
      "source": [
        "# But if I want printing out both statement in single line whether both statement's code written in saperate line so we use for it (end=\"\"), that is new line caracter\n",
        "print(\"hello\",end=\",\")\n",
        "print(\" world\")"
      ],
      "execution_count": null,
      "outputs": [
        {
          "output_type": "stream",
          "text": [
            "hello, world\n"
          ],
          "name": "stdout"
        }
      ]
    },
    {
      "cell_type": "code",
      "metadata": {
        "id": "CnD3hhNyJWCw",
        "colab_type": "code",
        "colab": {
          "base_uri": "https://localhost:8080/",
          "height": 51
        },
        "outputId": "140e4505-88e0-4ff2-9263-2ad07413351a"
      },
      "source": [
        "#If I want to divide the string caracteres in two lines so we use for it \"\\n\"\n",
        "print(\"hello \\nworld\")"
      ],
      "execution_count": null,
      "outputs": [
        {
          "output_type": "stream",
          "text": [
            "hello \n",
            "world\n"
          ],
          "name": "stdout"
        }
      ]
    },
    {
      "cell_type": "code",
      "metadata": {
        "id": "R7V7DlEUKNHG",
        "colab_type": "code",
        "colab": {
          "base_uri": "https://localhost:8080/",
          "height": 51
        },
        "outputId": "efe3fee5-a41f-4928-f669-93659a57f22b"
      },
      "source": [
        "#but in case,-this is an example\n",
        "print(\"which bike do you like old\\new\")\n",
        "#it shows an abnormel out put that is,"
      ],
      "execution_count": null,
      "outputs": [
        {
          "output_type": "stream",
          "text": [
            "which bike do you like old\n",
            "ew\n"
          ],
          "name": "stdout"
        }
      ]
    },
    {
      "cell_type": "code",
      "metadata": {
        "id": "nRDq7QD5KqUt",
        "colab_type": "code",
        "colab": {}
      },
      "source": [
        "#this is because python does not understand in grammer manner, it only and only do work with its own rules\n",
        "#above cell showes error because it does not understand what's the meaning of string but it understand it own escape sequence caracters that was \"\\n\""
      ],
      "execution_count": null,
      "outputs": []
    },
    {
      "cell_type": "code",
      "metadata": {
        "id": "1Mx58531OMIs",
        "colab_type": "code",
        "colab": {
          "base_uri": "https://localhost:8080/",
          "height": 34
        },
        "outputId": "7ed18f36-6cd5-4d3f-f777-b0d6ac827c48"
      },
      "source": [
        "#Now, if I want get that output that I did really want. So now I use a special caracter that is \\\\n\n",
        "print(\"which car do you like old\\\\new\")"
      ],
      "execution_count": null,
      "outputs": [
        {
          "output_type": "stream",
          "text": [
            "which car do you like old\\new\n"
          ],
          "name": "stdout"
        }
      ]
    },
    {
      "cell_type": "code",
      "metadata": {
        "id": "xcNPlZ9UIoPx",
        "colab_type": "code",
        "colab": {}
      },
      "source": [
        "# if I want to use single quote between the string again\\\n",
        "print(\"hello\"world\")\n",
        "#It shows an error"
      ],
      "execution_count": null,
      "outputs": []
    },
    {
      "cell_type": "code",
      "metadata": {
        "id": "OPVoChS0PliV",
        "colab_type": "code",
        "colab": {
          "base_uri": "https://localhost:8080/",
          "height": 34
        },
        "outputId": "5aa94ebf-07ee-4d3f-9ac1-c3db45eb1ad9"
      },
      "source": [
        "#again we an escape sequence caracter this \"\\n'\"\n",
        "print(\"hello\\\"world\")"
      ],
      "execution_count": null,
      "outputs": [
        {
          "output_type": "stream",
          "text": [
            "hello\"world\n"
          ],
          "name": "stdout"
        }
      ]
    },
    {
      "cell_type": "code",
      "metadata": {
        "id": "hUkgs97CQ3dx",
        "colab_type": "code",
        "colab": {
          "base_uri": "https://localhost:8080/",
          "height": 34
        },
        "outputId": "20a32be8-ddd1-41b6-960d-3f9ef52b2f38"
      },
      "source": [
        "#We use \"\\t\" for giving tab in the string \n",
        "print(\"hello\\thello\\tworld\")"
      ],
      "execution_count": null,
      "outputs": [
        {
          "output_type": "stream",
          "text": [
            "hello\thello\tworld\n"
          ],
          "name": "stdout"
        }
      ]
    },
    {
      "cell_type": "markdown",
      "metadata": {
        "id": "lWra48hwVA0d",
        "colab_type": "text"
      },
      "source": [
        "######Some_more_sequence_characters_by_internet"
      ]
    },
    {
      "cell_type": "code",
      "metadata": {
        "id": "G0OPr0wETpkp",
        "colab_type": "code",
        "colab": {
          "base_uri": "https://localhost:8080/",
          "height": 34
        },
        "outputId": "b56b7af4-11d1-47a6-b9f0-93c10234db1b"
      },
      "source": [
        "print(\"hello \\\\world\")"
      ],
      "execution_count": null,
      "outputs": [
        {
          "output_type": "stream",
          "text": [
            "hello \\world\n"
          ],
          "name": "stdout"
        }
      ]
    },
    {
      "cell_type": "code",
      "metadata": {
        "id": "reSWtp3bWm5v",
        "colab_type": "code",
        "colab": {
          "base_uri": "https://localhost:8080/",
          "height": 34
        },
        "outputId": "27878bf2-7b2b-41cf-d3f1-b480f9c68cae"
      },
      "source": [
        "print('hello \\'world')\n",
        "\n"
      ],
      "execution_count": null,
      "outputs": [
        {
          "output_type": "stream",
          "text": [
            "hello 'world\n"
          ],
          "name": "stdout"
        }
      ]
    },
    {
      "cell_type": "code",
      "metadata": {
        "id": "9tCnLs0EW2nA",
        "colab_type": "code",
        "colab": {
          "base_uri": "https://localhost:8080/",
          "height": 34
        },
        "outputId": "4787e559-3752-4c3d-a6cb-14233a402bdc"
      },
      "source": [
        "print(\"hello \\\"world\")"
      ],
      "execution_count": null,
      "outputs": [
        {
          "output_type": "stream",
          "text": [
            "hello \"world\n"
          ],
          "name": "stdout"
        }
      ]
    },
    {
      "cell_type": "code",
      "metadata": {
        "id": "XHy_n9mcXEsu",
        "colab_type": "code",
        "colab": {
          "base_uri": "https://localhost:8080/",
          "height": 34
        },
        "outputId": "a5f9e6cf-6299-405c-90a9-672242a54bf5"
      },
      "source": [
        "print(\"hello \\aworld\")"
      ],
      "execution_count": null,
      "outputs": [
        {
          "output_type": "stream",
          "text": [
            "hello \u0007world\n"
          ],
          "name": "stdout"
        }
      ]
    },
    {
      "cell_type": "code",
      "metadata": {
        "id": "7pvNREKlXOfh",
        "colab_type": "code",
        "colab": {
          "base_uri": "https://localhost:8080/",
          "height": 51
        },
        "outputId": "db42a630-fcce-420a-c1f8-887086179f30"
      },
      "source": [
        "#This character remove the just before character of backslash(\\)\n",
        "print(\"hello \\bworld\")\n",
        "print(\"bye-\\bye\")"
      ],
      "execution_count": null,
      "outputs": [
        {
          "output_type": "stream",
          "text": [
            "hello \bworld\n",
            "bye-\bye\n"
          ],
          "name": "stdout"
        }
      ]
    },
    {
      "cell_type": "code",
      "metadata": {
        "id": "HEVYq9q6YgJe",
        "colab_type": "code",
        "colab": {
          "base_uri": "https://localhost:8080/",
          "height": 51
        },
        "outputId": "63526211-b356-407b-dc09-aa41703a7308"
      },
      "source": [
        "print(\"hello \\nworld\")"
      ],
      "execution_count": null,
      "outputs": [
        {
          "output_type": "stream",
          "text": [
            "hello \n",
            "world\n"
          ],
          "name": "stdout"
        }
      ]
    },
    {
      "cell_type": "markdown",
      "metadata": {
        "id": "-yZLCUEAb7sU",
        "colab_type": "text"
      },
      "source": [
        "####Variables_Datatypes_and_Typecasting"
      ]
    },
    {
      "cell_type": "markdown",
      "metadata": {
        "id": "9tZYNwSwdQc2",
        "colab_type": "text"
      },
      "source": [
        "######Variables"
      ]
    },
    {
      "cell_type": "code",
      "metadata": {
        "id": "yZQA6vxycOgI",
        "colab_type": "code",
        "colab": {}
      },
      "source": [
        "#Variables are the characters in which we stored the numbers or string for eg. \n",
        "a=45\n",
        "b=45\n",
        "c=a+b\n",
        "#'a' and 'b' are variables\n"
      ],
      "execution_count": null,
      "outputs": []
    },
    {
      "cell_type": "markdown",
      "metadata": {
        "id": "sjZQgw6YdWkj",
        "colab_type": "text"
      },
      "source": [
        "######Datatypes"
      ]
    },
    {
      "cell_type": "code",
      "metadata": {
        "id": "G0RnqiLudbXI",
        "colab_type": "code",
        "colab": {
          "base_uri": "https://localhost:8080/",
          "height": 68
        },
        "outputId": "988fe8de-98b7-4d1a-875f-2796dc1fb90c"
      },
      "source": [
        "a=\"hello world\"\n",
        "b=456\n",
        "c=69.5\n",
        "#If we want to know which types variables contain, so we use for it the resercve word that is 'type'p'\n",
        "print(type(a))\n",
        "print(type(b))\n",
        "print(type(c))"
      ],
      "execution_count": null,
      "outputs": [
        {
          "output_type": "stream",
          "text": [
            "<class 'str'>\n",
            "<class 'int'>\n",
            "<class 'float'>\n"
          ],
          "name": "stdout"
        }
      ]
    },
    {
      "cell_type": "code",
      "metadata": {
        "id": "mbsgfBh204WN",
        "colab_type": "code",
        "colab": {
          "base_uri": "https://localhost:8080/",
          "height": 51
        },
        "outputId": "4aef6da8-fc3c-4c33-df3c-93de031caa8e"
      },
      "source": [
        "\"\"\"\n",
        "string adds only with it like terms\n",
        "integers can adds its like terms as well a float\n",
        "floar can adds its like term as well as integers\n",
        "\"\"\"\n",
        "a = \"hello world\" #String\n",
        "b = 456 #Integer\n",
        "c = 56.4 #float\n",
        "d = \"there\"\n",
        "#print(a+b) and (a+c) will show error\n",
        "print(b+c);(c+b) #will not show error\n",
        "print(a+d)# will also not show error. The reason is that, string can add with more string"
      ],
      "execution_count": null,
      "outputs": [
        {
          "output_type": "stream",
          "text": [
            "512.4\n"
          ],
          "name": "stdout"
        },
        {
          "output_type": "execute_result",
          "data": {
            "text/plain": [
              "512.4"
            ]
          },
          "metadata": {
            "tags": []
          },
          "execution_count": 6
        }
      ]
    },
    {
      "cell_type": "markdown",
      "metadata": {
        "id": "EVI8VASg5YyI",
        "colab_type": "text"
      },
      "source": [
        "<>  String can change into integers and float \n",
        "\n",
        "<> Integer can change into string and float\n",
        "\n",
        "<> Float can change into string and integer"
      ]
    },
    {
      "cell_type": "markdown",
      "metadata": {
        "id": "7tX0CWw77HIk",
        "colab_type": "text"
      },
      "source": [
        "######Type_casting\n"
      ]
    },
    {
      "cell_type": "code",
      "metadata": {
        "id": "CKtlX5rC61Qc",
        "colab_type": "code",
        "colab": {
          "base_uri": "https://localhost:8080/",
          "height": 68
        },
        "outputId": "2f70c810-fb48-43f3-aa9a-5dbbf99b2b52"
      },
      "source": [
        "# String can change into integers and float \n",
        "a = \"57\"\n",
        "print(type(a))\n",
        "print(type(int(a)))\n",
        "print(type(float(a)))\n"
      ],
      "execution_count": null,
      "outputs": [
        {
          "output_type": "stream",
          "text": [
            "<class 'str'>\n",
            "<class 'int'>\n",
            "<class 'float'>\n"
          ],
          "name": "stdout"
        }
      ]
    },
    {
      "cell_type": "code",
      "metadata": {
        "id": "zVzZ59Pn8eCF",
        "colab_type": "code",
        "colab": {
          "base_uri": "https://localhost:8080/",
          "height": 68
        },
        "outputId": "fa01655c-7463-434a-a82b-f1c9a000ee9b"
      },
      "source": [
        "# Integer can change into string and float\n",
        "a=40\n",
        "print(type(a))\n",
        "print(type(str(a)))\n",
        "print(type(float(a)))"
      ],
      "execution_count": null,
      "outputs": [
        {
          "output_type": "stream",
          "text": [
            "<class 'int'>\n",
            "<class 'str'>\n",
            "<class 'float'>\n"
          ],
          "name": "stdout"
        }
      ]
    },
    {
      "cell_type": "code",
      "metadata": {
        "id": "W3MaYV00AsYI",
        "colab_type": "code",
        "colab": {
          "base_uri": "https://localhost:8080/",
          "height": 68
        },
        "outputId": "ef6b35d4-12e2-41e0-9403-ba88813811c7"
      },
      "source": [
        "#Float can change into string and integer\n",
        "a=609.5\n",
        "print(type(a))\n",
        "print(type(str(a)))\n",
        "print(type(int(a)))"
      ],
      "execution_count": null,
      "outputs": [
        {
          "output_type": "stream",
          "text": [
            "<class 'float'>\n",
            "<class 'str'>\n",
            "<class 'int'>\n"
          ],
          "name": "stdout"
        }
      ]
    },
    {
      "cell_type": "markdown",
      "metadata": {
        "id": "K283HzmT4lPZ",
        "colab_type": "text"
      },
      "source": [
        "####String_Slicing_And_Other_Functions"
      ]
    },
    {
      "cell_type": "code",
      "metadata": {
        "id": "unTnUIh74kpd",
        "colab_type": "code",
        "colab": {
          "base_uri": "https://localhost:8080/",
          "height": 85
        },
        "outputId": "57db27ab-f28f-4373-becb-dba88c705ddd"
      },
      "source": [
        "#I can measure the lenth of string, i.e, how many characters in the string by using 'len' reserved word\n",
        "mynum = '123456789'                                     \n",
        "print(len(mynum))\n",
        "#I can also print a part of string. \n",
        "  #Like, I want to print the string character from1to7\n",
        "print(mynum[0:8])\n",
        "\"\"\"I am using '0' in the code to print '1' in the string. This is because python does not count from '1', it counts from'0'.So,there is also\n",
        "   one more question pops up in my mind, i.e, if python counts from '0', so the total characters should be print '9' according to code!!??? \n",
        "   No, total '9' characters will not print because, in code, I write '0', python start printing from '1' in string, but, I write '8' python should \n",
        "   stop printing at '9' according to you. But python stopped at'8'. This is because, when I write '1' in code, python include '0'. But when I \n",
        "   write '8' in code, python exclude '8' \"\"\"\n",
        "# If I want to print 8th character in the string, so I write,\n",
        "print(mynum[7])#Note!!!!! PYTHON also count blank space in string\n",
        "#print(mynum[59]) it will show error. But if I write\n",
        "print(mynum[0:265]) #it will not so error\n"
      ],
      "execution_count": null,
      "outputs": [
        {
          "output_type": "stream",
          "text": [
            "9\n",
            "12345678\n",
            "8\n",
            "123456789\n"
          ],
          "name": "stdout"
        }
      ]
    },
    {
      "cell_type": "code",
      "metadata": {
        "id": "h56meQSnEpAc",
        "colab_type": "code",
        "colab": {
          "base_uri": "https://localhost:8080/",
          "height": 137
        },
        "outputId": "a46c4a28-8950-4c77-f9fc-aba6e54a546e"
      },
      "source": [
        " mynum = '123456789'\n",
        "# If I want to print every 2nd or 3rd or as I wish, characters in the string, so I can make it by using,\n",
        "print(mynum[0:9:2])# Every 2nd character printed\n",
        "print(mynum[0:9:3])# Every 3rd character printed\n",
        "\"\"\" According to the below code, firstly python counts how many characters in the string, then, python reads the first number in the [] bracket,\n",
        "    if I write [0] so python start to print from 1st character. Then, python read the second number in the [] square bracket, i.e,[7]\n",
        "    so python stop printing at 8th character. If I also write third number in [] bracket, i.e, [2], python get, it has to print leaving \n",
        "    every second character till 8th character in the string \"\"\"  \n",
        "print(mynum[0:7:2])             \n",
        "print(mynum[::])  \n",
        "\"\"\" According to the above code, at the place of first number in [] bracket, python itself assume [0] i.e, from 1st character. At the place of second \n",
        "number in [] bracket, python it self assume the number of last character position i.e, [0:8]. Then python consider third position in [] bracket (if write)\n",
        " i.e, how many character will be skipped. Python itself assume [0] at the third place in[] bracket \"\"\"\n",
        " print()\n",
        "                       "
      ],
      "execution_count": null,
      "outputs": [
        {
          "output_type": "stream",
          "text": [
            "13579\n",
            "147\n",
            "1357\n",
            "123456789\n"
          ],
          "name": "stdout"
        },
        {
          "output_type": "execute_result",
          "data": {
            "application/vnd.google.colaboratory.intrinsic+json": {
              "type": "string"
            },
            "text/plain": [
              "' According to the above code, at the place of first number in [] bracket, python itself assume [0] i.e, from 1st character. At the place of second \\nnumber in [] bracket, python it self assume the number of last character position i.e, [0:8]. Then python consider third position in [] bracket (if write)\\ni.e, how many character will be skipped. Python itself assume [0] at the third place in[] bracket '"
            ]
          },
          "metadata": {
            "tags": []
          },
          "execution_count": 21
        }
      ]
    },
    {
      "cell_type": "markdown",
      "metadata": {
        "id": "QO29kbbAvN3L",
        "colab_type": "text"
      },
      "source": [
        "######Here_some_more_way_to_string_slicing\n"
      ]
    },
    {
      "cell_type": "code",
      "metadata": {
        "id": "qvc_kM12vmvX",
        "colab_type": "code",
        "colab": {
          "base_uri": "https://localhost:8080/",
          "height": 306
        },
        "outputId": "ed546583-6378-4569-c1b6-95de4ea63fb9"
      },
      "source": [
        "# Study_all_of_them_carefully!!\n",
        "mynum = '123456789'\n",
        "print(len(mynum))\n",
        "print(mynum[2])\n",
        "print(mynum[2:7])\n",
        "print(mynum[2:97])\n",
        "print(mynum[1:7:1])\n",
        "print(mynum[:8])\n",
        "print(mynum[:])\n",
        "print(mynum[:8:1])\n",
        "print(mynum[2::2])\n",
        "print(mynum[2:8:])\n",
        "print(mynum[::2])\n",
        "print(mynum[::])\n",
        "print(mynum[1::])\n",
        "print(mynum[-4])\n",
        "print(mynum[::-1])# that 3rd num. make string in reverce\n",
        "print(mynum[-1:-8:-1])\n",
        "print(mynum[2:8:-1])\n",
        "print(mynum[-2])"
      ],
      "execution_count": null,
      "outputs": [
        {
          "output_type": "stream",
          "text": [
            "9\n",
            "3\n",
            "34567\n",
            "3456789\n",
            "234567\n",
            "12345678\n",
            "123456789\n",
            "12345678\n",
            "3579\n",
            "345678\n",
            "13579\n",
            "123456789\n",
            "23456789\n",
            "6\n",
            "987654321\n",
            "9876543\n",
            "\n"
          ],
          "name": "stdout"
        }
      ]
    },
    {
      "cell_type": "markdown",
      "metadata": {
        "id": "2Q1eFvIkcK_e",
        "colab_type": "text"
      },
      "source": [
        "######Here_are_some_more_functions_of_string_slicing\n"
      ]
    },
    {
      "cell_type": "code",
      "metadata": {
        "id": "yc1vdgrVc2bf",
        "colab_type": "code",
        "colab": {
          "base_uri": "https://localhost:8080/",
          "height": 34
        },
        "outputId": "a47916a6-c77e-4c1e-ddec-d7d7f00b3eb2"
      },
      "source": [
        "print(myts)"
      ],
      "execution_count": null,
      "outputs": [
        {
          "output_type": "execute_result",
          "data": {
            "text/plain": [
              "<function print>"
            ]
          },
          "metadata": {
            "tags": []
          },
          "execution_count": 1
        }
      ]
    },
    {
      "cell_type": "code",
      "metadata": {
        "id": "R6k1laTgeeyE",
        "colab_type": "code",
        "colab": {
          "base_uri": "https://localhost:8080/",
          "height": 204
        },
        "outputId": "9268b935-e593-41de-de14-1fee77d3e714"
      },
      "source": [
        "mynum = \"hello my PYTHON journey\"\n",
        "\"\"\" In the below line, We ask to python that, Is all string characters are alphabatic and/or numeric. As answer shows 'false', that mean \n",
        "   the all string is not alphatic and/or numeric. This is because, python also counts white space and white space is not a string.\"\"\"\n",
        "print(mynum.isalnum())\n",
        "print(bool(mynum))\n",
        "print(mynum.isalpha())     \n",
        "print(mynum.endswith(\"journey\"))# We ask to python\" Is the string end with the character(xxxxxxx)\n",
        "print(mynum.count(\"o\"))#we ask to python,\"how many same character present in the string\"\n",
        "print(mynum.count(\"py\"))\n",
        "print(mynum.capitalize())#python itself make first letter capital of the string\n",
        "print(mynum.find(\"python\"))#using .find() method, we can find out how many times a certain string appear in a parent string\n",
        "print (mynum.lower())#this function make all alphabats in small letter\n",
        "print(mynum.upper())#this function make all alphabats in capital letter\n",
        "print(mynum.replace(\"hello\", \"how is\"))\n",
        "#VISIT on https://www.w3schools.com/python/python_ref_string.asp"
      ],
      "execution_count": null,
      "outputs": [
        {
          "output_type": "stream",
          "text": [
            "False\n",
            "True\n",
            "False\n",
            "True\n",
            "2\n",
            "0\n",
            "Hello my python journey\n",
            "-1\n",
            "hello my python journey\n",
            "HELLO MY PYTHON JOURNEY\n",
            "how is my PYTHON journey\n"
          ],
          "name": "stdout"
        }
      ]
    },
    {
      "cell_type": "markdown",
      "metadata": {
        "id": "CdOe5PlD-l_R",
        "colab_type": "text"
      },
      "source": [
        "####Python_Lists_And_List_Functions "
      ]
    },
    {
      "cell_type": "code",
      "metadata": {
        "id": "PMIVa8Qv_G33",
        "colab_type": "code",
        "colab": {
          "base_uri": "https://localhost:8080/",
          "height": 238
        },
        "outputId": "5866f2ea-83ed-4839-c075-2349239cf7f2"
      },
      "source": [
        "#we can make a list in python\n",
        "list = [\"lL ghee\", \"ghiyaa\", \"toree\", \"tijaab\", \"pauvva\"]\n",
        "print(list[::-1])\n",
        "print(list[0])\n",
        "print(list[0:])\n",
        "print(list[0::2])\n",
        "print(list[1:])\n",
        "numbers = [2,34,54,74,34,543,32,43,542,43,46] \n",
        "print(numbers[0])\n",
        "print(numbers[3])\n",
        "print(numbers.sort())#these functions change original variable\n",
        "print(numbers)\n",
        "print(numbers.reverse())#these functions change original variable\n",
        "print(numbers)\n",
        "print(max(numbers))#Which is the largest number in the variable\n",
        "print(min(numbers))#which is the smallest number in the variables\n"
      ],
      "execution_count": null,
      "outputs": [
        {
          "output_type": "stream",
          "text": [
            "['pauvva', 'tijaab', 'toree', 'ghiyaa', 'lL ghee']\n",
            "lL ghee\n",
            "['lL ghee', 'ghiyaa', 'toree', 'tijaab', 'pauvva']\n",
            "['lL ghee', 'toree', 'pauvva']\n",
            "['ghiyaa', 'toree', 'tijaab', 'pauvva']\n",
            "2\n",
            "74\n",
            "None\n",
            "[2, 32, 34, 34, 43, 43, 46, 54, 74, 542, 543]\n",
            "None\n",
            "[543, 542, 74, 54, 46, 43, 43, 34, 34, 32, 2]\n",
            "543\n",
            "2\n"
          ],
          "name": "stdout"
        }
      ]
    },
    {
      "cell_type": "code",
      "metadata": {
        "id": "OzGzcN9yBhZc",
        "colab_type": "code",
        "colab": {
          "base_uri": "https://localhost:8080/",
          "height": 34
        },
        "outputId": "c42b3b51-10e4-479b-af33-8e549dd545e6"
      },
      "source": [
        "print(\"aashish mittalO\")"
      ],
      "execution_count": 1,
      "outputs": [
        {
          "output_type": "stream",
          "text": [
            "aashish mittal\n"
          ],
          "name": "stdout"
        }
      ]
    }
  ]
}